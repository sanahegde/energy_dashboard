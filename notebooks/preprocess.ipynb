{
 "cells": [
  {
   "cell_type": "code",
   "execution_count": 7,
   "metadata": {},
   "outputs": [
    {
     "name": "stdout",
     "output_type": "stream",
     "text": [
      "Raw Data:\n",
      "         country  year iso_code  population  gdp  biofuel_cons_change_pct  \\\n",
      "0  ASEAN (Ember)  2000      NaN         NaN  NaN                      NaN   \n",
      "1  ASEAN (Ember)  2001      NaN         NaN  NaN                      NaN   \n",
      "2  ASEAN (Ember)  2002      NaN         NaN  NaN                      NaN   \n",
      "3  ASEAN (Ember)  2003      NaN         NaN  NaN                      NaN   \n",
      "4  ASEAN (Ember)  2004      NaN         NaN  NaN                      NaN   \n",
      "\n",
      "   biofuel_cons_change_twh  biofuel_cons_per_capita  biofuel_consumption  \\\n",
      "0                      NaN                      NaN                  NaN   \n",
      "1                      NaN                      NaN                  NaN   \n",
      "2                      NaN                      NaN                  NaN   \n",
      "3                      NaN                      NaN                  NaN   \n",
      "4                      NaN                      NaN                  NaN   \n",
      "\n",
      "   biofuel_elec_per_capita  ...  solar_share_elec  solar_share_energy  \\\n",
      "0                      NaN  ...               0.0                 NaN   \n",
      "1                      NaN  ...               0.0                 NaN   \n",
      "2                      NaN  ...               0.0                 NaN   \n",
      "3                      NaN  ...               0.0                 NaN   \n",
      "4                      NaN  ...               0.0                 NaN   \n",
      "\n",
      "   wind_cons_change_pct  wind_cons_change_twh  wind_consumption  \\\n",
      "0                   NaN                   NaN               NaN   \n",
      "1                   NaN                   NaN               NaN   \n",
      "2                   NaN                   NaN               NaN   \n",
      "3                   NaN                   NaN               NaN   \n",
      "4                   NaN                   NaN               NaN   \n",
      "\n",
      "   wind_elec_per_capita  wind_electricity  wind_energy_per_capita  \\\n",
      "0                   NaN               0.0                     NaN   \n",
      "1                   NaN               0.0                     NaN   \n",
      "2                   NaN               0.0                     NaN   \n",
      "3                   NaN               0.0                     NaN   \n",
      "4                   NaN               0.0                     NaN   \n",
      "\n",
      "   wind_share_elec  wind_share_energy  \n",
      "0              0.0                NaN  \n",
      "1              0.0                NaN  \n",
      "2              0.0                NaN  \n",
      "3              0.0                NaN  \n",
      "4              0.0                NaN  \n",
      "\n",
      "[5 rows x 129 columns]\n",
      "Cleaned data saved successfully!\n"
     ]
    }
   ],
   "source": [
    "import pandas as pd\n",
    "\n",
    "# Load the raw dataset\n",
    "df = pd.read_csv('../data/raw_data.csv')\n",
    "\n",
    "# Display the first rows\n",
    "print(\"Raw Data:\")\n",
    "print(df.head())\n",
    "\n",
    "# Step 1: Filter necessary columns\n",
    "columns = ['country', 'year', 'population', 'primary_energy_consumption', 'fossil_fuel_consumption', 'renewables_share_energy']\n",
    "df_filtered = df[columns]\n",
    "\n",
    "# Step 2: Handle missing values (drop rows where any column is NaN)\n",
    "df_filtered = df_filtered.dropna()\n",
    "\n",
    "# Step 3: Create derived metrics\n",
    "df_filtered['energy_per_capita'] = df_filtered['primary_energy_consumption'] / df_filtered['population']\n",
    "df_filtered['fossil_fuel_per_capita'] = df_filtered['fossil_fuel_consumption'] / df_filtered['population']\n",
    "\n",
    "# Step 4: Save the cleaned dataset\n",
    "df_filtered.to_csv('../data/cleaned_data.csv', index=False)\n",
    "print(\"Cleaned data saved successfully!\")\n"
   ]
  }
 ],
 "metadata": {
  "kernelspec": {
   "display_name": "Python 3",
   "language": "python",
   "name": "python3"
  },
  "language_info": {
   "codemirror_mode": {
    "name": "ipython",
    "version": 3
   },
   "file_extension": ".py",
   "mimetype": "text/x-python",
   "name": "python",
   "nbconvert_exporter": "python",
   "pygments_lexer": "ipython3",
   "version": "3.12.7"
  }
 },
 "nbformat": 4,
 "nbformat_minor": 2
}
